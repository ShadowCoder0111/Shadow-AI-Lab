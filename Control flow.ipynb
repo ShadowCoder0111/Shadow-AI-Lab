{
 "cells": [
  {
   "cell_type": "markdown",
   "id": "581253cc",
   "metadata": {},
   "source": [
    "## 🧠 Control Flow in Python"
   ]
  },
  {
   "cell_type": "markdown",
   "id": "cd78af2e",
   "metadata": {},
   "source": [
    "\n",
    "Control flow allows you to dictate the execution path your program should take based on conditions, loops, and logical decisions."
   ]
  },
  {
   "cell_type": "markdown",
   "id": "280b04cf",
   "metadata": {},
   "source": [
    "### 🔹 `if`, `elif`, `else` — Conditional Statements\n",
    "These statements help run certain blocks of code only if specific conditions are met."
   ]
  },
  {
   "cell_type": "code",
   "execution_count": 1,
   "id": "bd083427",
   "metadata": {},
   "outputs": [
    {
     "name": "stdout",
     "output_type": "stream",
     "text": [
      "Positive\n"
     ]
    }
   ],
   "source": [
    "x = 10\n",
    "\n",
    "if x > 0:\n",
    "    print(\"Positive\")  # Runs if x > 0\n",
    "elif x == 0:\n",
    "    print(\"Zero\")      # Runs if x == 0\n",
    "else:\n",
    "    print(\"Negative\")  # Runs if all other conditions fail"
   ]
  },
  {
   "cell_type": "markdown",
   "id": "326f0268",
   "metadata": {},
   "source": [
    "👉 **Explanation:**\n",
    "- `if` checks the first condition\n",
    "- `elif` (else-if) checks next if the first fails\n",
    "- `else` runs if all conditions fail"
   ]
  },
  {
   "cell_type": "markdown",
   "id": "8a8cd0d1",
   "metadata": {},
   "source": [
    "🧠 **Trick:**\n",
    "- Conditions are checked in order. Only the **first True** block runs.\n",
    "- Indentation is critical (Python uses indentation instead of curly braces)."
   ]
  },
  {
   "cell_type": "markdown",
   "id": "ecaf5d5a",
   "metadata": {},
   "source": [
    "### 🔹 Nested `if` Statements\n",
    "You can put an `if` inside another `if`."
   ]
  },
  {
   "cell_type": "code",
   "execution_count": 2,
   "id": "c564e326",
   "metadata": {},
   "outputs": [
    {
     "name": "stdout",
     "output_type": "stream",
     "text": [
      "Positive and less than 20\n"
     ]
    }
   ],
   "source": [
    "x = 15\n",
    "if x > 0:\n",
    "    if x < 20:\n",
    "        print(\"Positive and less than 20\")"
   ]
  },
  {
   "cell_type": "markdown",
   "id": "1729d9c5",
   "metadata": {},
   "source": [
    "### 🔹 `for` Loop — Iterating Over Sequences\n",
    "Used to loop over elements of a sequence (string, list, tuple, etc.)"
   ]
  },
  {
   "cell_type": "code",
   "execution_count": 3,
   "id": "f3a6e2b2",
   "metadata": {},
   "outputs": [
    {
     "name": "stdout",
     "output_type": "stream",
     "text": [
      "S\n",
      "h\n",
      "a\n",
      "d\n",
      "o\n",
      "w\n",
      "0\n",
      "1\n",
      "2\n"
     ]
    }
   ],
   "source": [
    "for char in \"Shadow\":\n",
    "    print(char)\n",
    "\n",
    "for i in range(3):\n",
    "    print(i)  # 0 1 2"
   ]
  },
  {
   "cell_type": "markdown",
   "id": "8fe9bb74",
   "metadata": {},
   "source": [
    "👉 `range(start, stop, step)` can be used for numeric loops.\n",
    "\n",
    "🧠 **Trick:**\n",
    "- `range(n)` gives numbers from 0 to n-1\n",
    "- `range(a, b, -1)` can loop in reverse"
   ]
  },
  {
   "cell_type": "markdown",
   "id": "bf875136",
   "metadata": {},
   "source": [
    "## 🔹 `while` Loop — Looping with a Condition\n",
    "Used when you don’t know how many times you want to loop."
   ]
  },
  {
   "cell_type": "code",
   "execution_count": 4,
   "id": "7a8dec70",
   "metadata": {},
   "outputs": [
    {
     "name": "stdout",
     "output_type": "stream",
     "text": [
      "0\n",
      "1\n",
      "2\n"
     ]
    }
   ],
   "source": [
    "count = 0\n",
    "while count < 3:\n",
    "    print(count)\n",
    "    count += 1"
   ]
  },
  {
   "cell_type": "markdown",
   "id": "ef902ef8",
   "metadata": {},
   "source": [
    "🧠 **Caution:** Make sure the condition eventually becomes `False`, or you'll create an **infinite loop**."
   ]
  },
  {
   "cell_type": "markdown",
   "id": "15bba0d0",
   "metadata": {},
   "source": [
    "### 🔹 `break`, `continue`, and `pass`\n",
    "Used to alter loop behavior:"
   ]
  },
  {
   "cell_type": "code",
   "execution_count": 6,
   "id": "686cb762",
   "metadata": {},
   "outputs": [
    {
     "name": "stdout",
     "output_type": "stream",
     "text": [
      "0\n",
      "1\n",
      "2\n",
      "0\n",
      "1\n",
      "2\n",
      "4\n",
      "0\n",
      "1\n",
      "2\n",
      "3\n",
      "4\n"
     ]
    }
   ],
   "source": [
    "for i in range(5):\n",
    "    if i == 3:\n",
    "        break       # Exits loop when i is 3\n",
    "    print(i)        # Prints 0, 1, 2\n",
    "\n",
    "for i in range(5):\n",
    "    if i == 3:\n",
    "        continue    # Skips the current iteration\n",
    "    print(i)        # Prints 0, 1, 2, 4\n",
    "\n",
    "for i in range(5):\n",
    "    if i == 3:\n",
    "        pass        # Placeholder: does nothing, loop continues\n",
    "    print(i)        # Prints 0, 1, 2, 3, 4"
   ]
  },
  {
   "cell_type": "markdown",
   "id": "2e76e5e0",
   "metadata": {},
   "source": [
    "🧠 **Trick:**\n",
    "- `break` completely exits the loop\n",
    "- `continue` skips the current iteration\n",
    "- `pass` is a no-op placeholder, useful in empty blocks"
   ]
  },
  {
   "cell_type": "markdown",
   "id": "dfaed632",
   "metadata": {},
   "source": [
    "### 🔹 Ternary Operator — One-Line Conditional"
   ]
  },
  {
   "cell_type": "code",
   "execution_count": 7,
   "id": "a40a60d4",
   "metadata": {},
   "outputs": [
    {
     "name": "stdout",
     "output_type": "stream",
     "text": [
      "Even\n"
     ]
    }
   ],
   "source": [
    "x = 10\n",
    "type = \"Even\" if x % 2 == 0 else \"Odd\"\n",
    "print(type)  # Even"
   ]
  },
  {
   "cell_type": "markdown",
   "id": "b85c0857",
   "metadata": {},
   "source": [
    "### 🔹 Nested `for` Loops — Loops inside Loops"
   ]
  },
  {
   "cell_type": "markdown",
   "id": "41e0890d",
   "metadata": {},
   "source": [
    "Used when you need to iterate over combinations or grids."
   ]
  },
  {
   "cell_type": "code",
   "execution_count": 8,
   "id": "952ac142",
   "metadata": {},
   "outputs": [
    {
     "name": "stdout",
     "output_type": "stream",
     "text": [
      "i=0, j=0\n",
      "i=0, j=1\n",
      "i=1, j=0\n",
      "i=1, j=1\n",
      "i=2, j=0\n",
      "i=2, j=1\n"
     ]
    }
   ],
   "source": [
    "for i in range(3):\n",
    "    for j in range(2):\n",
    "        print(f\"i={i}, j={j}\")"
   ]
  },
  {
   "cell_type": "markdown",
   "id": "1ad1bc0c",
   "metadata": {},
   "source": [
    "👉 Useful for matrix operations, pair-wise combinations, etc.\n",
    "\n",
    "🧠 **Trick:**\n",
    "- Inner loop runs fully for each iteration of outer loop"
   ]
  },
  {
   "cell_type": "markdown",
   "id": "818b755a",
   "metadata": {},
   "source": [
    "### 🔹 `end` Parameter in `print()`"
   ]
  },
  {
   "cell_type": "markdown",
   "id": "81888c47",
   "metadata": {},
   "source": [
    "The `print()` function in Python ends with a newline (`\\n`) by default. You can change this using the `end` parameter."
   ]
  },
  {
   "cell_type": "code",
   "execution_count": 9,
   "id": "61c3ea42",
   "metadata": {},
   "outputs": [
    {
     "name": "stdout",
     "output_type": "stream",
     "text": [
      "0 1 2 "
     ]
    }
   ],
   "source": [
    "for i in range(3):\n",
    "    print(i, end=\" \")"
   ]
  },
  {
   "cell_type": "markdown",
   "id": "98d388e3",
   "metadata": {},
   "source": [
    "🧠 **Note:**\n",
    "- Useful when printing values on the same line.\n",
    "- You can also use `end=\"\\t\"` for tab spacing or `end=\"\"` to remove the newline entirely.\n",
    "- very useful while solving pattern generation problems"
   ]
  },
  {
   "cell_type": "markdown",
   "id": "7f365ec1",
   "metadata": {},
   "source": [
    "\n",
    "### ✅ Summary Table\n",
    "\n",
    "| Feature            | Syntax                            | Notes                                   |\n",
    "|--------------------|------------------------------------|-----------------------------------------|\n",
    "| `if`               | `if condition:`                   | Runs if condition is `True`             |\n",
    "| `elif`             | `elif condition:`                 | Optional, checks next condition         |\n",
    "| `else`             | `else:`                           | Runs if all above conditions fail       |\n",
    "| `for`              | `for var in iterable:`            | Iterates over items in sequence         |\n",
    "| `while`            | `while condition:`                | Loops while condition is `True`         |\n",
    "| `break`            | Inside loop                       | Exits the loop entirely                 |\n",
    "| `continue`         | Inside loop                       | Skips to next loop iteration            |\n",
    "| `pass`             | Inside loop or block              | Does nothing, placeholder               |\n",
    "| Nested Loops       | `for i in ...: for j in ...:`     | Loop inside another loop                |\n",
    "| Ternary operator   | `a if condition else b`           | One-line condition                      |\n",
    "| `print(..., end=...)` | `print(i, end=\" \")`              | Customize end character (no new line)  |"
   ]
  },
  {
   "cell_type": "code",
   "execution_count": null,
   "id": "dcced6ac",
   "metadata": {},
   "outputs": [],
   "source": []
  }
 ],
 "metadata": {
  "kernelspec": {
   "display_name": "Python 3",
   "language": "python",
   "name": "python3"
  },
  "language_info": {
   "codemirror_mode": {
    "name": "ipython",
    "version": 3
   },
   "file_extension": ".py",
   "mimetype": "text/x-python",
   "name": "python",
   "nbconvert_exporter": "python",
   "pygments_lexer": "ipython3",
   "version": "3.8.8"
  }
 },
 "nbformat": 4,
 "nbformat_minor": 5
}
