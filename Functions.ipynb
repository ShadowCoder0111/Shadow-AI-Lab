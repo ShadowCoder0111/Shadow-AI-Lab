{
 "cells": [
  {
   "cell_type": "markdown",
   "id": "1752e942",
   "metadata": {},
   "source": [
    "## 🧠 Functions and Lambda Expressions"
   ]
  },
  {
   "cell_type": "markdown",
   "id": "56cce25c",
   "metadata": {},
   "source": [
    "functions lets you write reuable code. you define a function once and use it mant times"
   ]
  },
  {
   "cell_type": "markdown",
   "id": "23d9a6fb",
   "metadata": {},
   "source": [
    "### Defining a Function"
   ]
  },
  {
   "cell_type": "code",
   "execution_count": 2,
   "id": "a7a72759",
   "metadata": {},
   "outputs": [
    {
     "name": "stdout",
     "output_type": "stream",
     "text": [
      "hello\n"
     ]
    }
   ],
   "source": [
    "def greet():\n",
    "    print('hello')\n",
    "greet()"
   ]
  },
  {
   "cell_type": "markdown",
   "id": "f4a3ed88",
   "metadata": {},
   "source": [
    "👉 **Explanation:**\n",
    "- `def` starts a function definition\n",
    "-`print()` is the function body"
   ]
  },
  {
   "cell_type": "code",
   "execution_count": 6,
   "id": "2b57aad5",
   "metadata": {},
   "outputs": [
    {
     "data": {
      "text/plain": [
       "'Hello, Shadow!'"
      ]
     },
     "execution_count": 6,
     "metadata": {},
     "output_type": "execute_result"
    }
   ],
   "source": [
    "def greet(name):\n",
    "    return f\"Hello, {name}!\"\n",
    "\n",
    "#print(greet(\"Shadow\"))  # Hello, Shadow!\n",
    "greet('Shadow')"
   ]
  },
  {
   "cell_type": "markdown",
   "id": "3f89a97b",
   "metadata": {},
   "source": [
    "👉 **Explanation:**\n",
    "- Use `def` followed by function name and parameters.\n",
    "- `return` sends back a value (optional)."
   ]
  },
  {
   "cell_type": "markdown",
   "id": "19732109",
   "metadata": {},
   "source": [
    "### 🔹 Positional vs Keyword Arguments"
   ]
  },
  {
   "cell_type": "code",
   "execution_count": 7,
   "id": "eaf21642",
   "metadata": {},
   "outputs": [
    {
     "name": "stdout",
     "output_type": "stream",
     "text": [
      "I have a dog named Buddy.\n",
      "I have a dog named Buddy.\n"
     ]
    }
   ],
   "source": [
    "def describe_pet(animal, name):\n",
    "    print(f\"I have a {animal} named {name}.\")\n",
    "\n",
    "describe_pet(\"dog\", \"Buddy\")            # Positional\n",
    "\n",
    "describe_pet(name=\"Buddy\", animal=\"dog\")  # Keyword"
   ]
  },
  {
   "cell_type": "markdown",
   "id": "a6b1a5af",
   "metadata": {},
   "source": [
    "### 🔹 Default Parameters"
   ]
  },
  {
   "cell_type": "code",
   "execution_count": 9,
   "id": "7862e177",
   "metadata": {},
   "outputs": [
    {
     "name": "stdout",
     "output_type": "stream",
     "text": [
      "Hello, User!\n",
      "Hello, Nova!\n"
     ]
    }
   ],
   "source": [
    "def greet(name=\"User\"):\n",
    "    return f\"Hello, {name}!\"\n",
    "\n",
    "print(greet())          # Hello, User\n",
    "print(greet(\"Nova\"))    # Hello, Nova"
   ]
  },
  {
   "cell_type": "markdown",
   "id": "2532ee1d",
   "metadata": {},
   "source": [
    "### 🔹 Variable-Length Arguments (*args, **kwargs)"
   ]
  },
  {
   "cell_type": "code",
   "execution_count": 10,
   "id": "2f203c71",
   "metadata": {},
   "outputs": [
    {
     "name": "stdout",
     "output_type": "stream",
     "text": [
      "6\n",
      "name: Shadow\n",
      "age: 25\n"
     ]
    }
   ],
   "source": [
    "def add_all(*args):\n",
    "    return sum(args)\n",
    "\n",
    "print(add_all(1, 2, 3))  # 6\n",
    "\n",
    "\n",
    "def show_info(**kwargs):\n",
    "    for key, value in kwargs.items():\n",
    "        print(f\"{key}: {value}\")\n",
    "\n",
    "show_info(name=\"Shadow\", age=25)"
   ]
  },
  {
   "cell_type": "markdown",
   "id": "cca42782",
   "metadata": {},
   "source": [
    "👉 `*args` collects extra positional arguments into a tuple.\n",
    "👉 `**kwargs` collects extra keyword arguments into a dictionary."
   ]
  },
  {
   "cell_type": "markdown",
   "id": "7902a66a",
   "metadata": {},
   "source": [
    "### 🔹 Nested Functions"
   ]
  },
  {
   "cell_type": "code",
   "execution_count": 11,
   "id": "6108bd90",
   "metadata": {},
   "outputs": [
    {
     "name": "stdout",
     "output_type": "stream",
     "text": [
      "Inner\n"
     ]
    }
   ],
   "source": [
    "def outer():\n",
    "    def inner():\n",
    "        return \"Inner\"\n",
    "    return inner()\n",
    "\n",
    "print(outer())  # Inner"
   ]
  },
  {
   "cell_type": "markdown",
   "id": "b8d6a332",
   "metadata": {},
   "source": [
    "### 🔹 Anonymous Functions with `lambda`"
   ]
  },
  {
   "cell_type": "code",
   "execution_count": 12,
   "id": "46fe9e1c",
   "metadata": {},
   "outputs": [
    {
     "name": "stdout",
     "output_type": "stream",
     "text": [
      "25\n"
     ]
    }
   ],
   "source": [
    "square = lambda x: x * x\n",
    "print(square(5))  # 25"
   ]
  },
  {
   "cell_type": "markdown",
   "id": "58354e6e",
   "metadata": {},
   "source": [
    "👉 **Use when:** Small, throwaway functions are needed — e.g., inside `map()`, `filter()`."
   ]
  },
  {
   "cell_type": "markdown",
   "id": "ee92602f",
   "metadata": {},
   "source": [
    "### 🔹 Functions as First-Class Citizens\n",
    "Functions can be passed around like variables."
   ]
  },
  {
   "cell_type": "code",
   "execution_count": 14,
   "id": "184e29ef",
   "metadata": {},
   "outputs": [
    {
     "name": "stdout",
     "output_type": "stream",
     "text": [
      "SHADOW\n",
      "shadow\n"
     ]
    }
   ],
   "source": [
    "def shout(text):\n",
    "    return text.upper()\n",
    "\n",
    "def whisper(text):\n",
    "    return text.lower()\n",
    "\n",
    "def speak(func):\n",
    "    return func(\"Shadow\")\n",
    "\n",
    "print(speak(shout))   # SHADOW\n",
    "print(speak(whisper)) # shadow"
   ]
  },
  {
   "cell_type": "markdown",
   "id": "f7e70ac2",
   "metadata": {},
   "source": [
    "### 🔹 `map`, `filter`, and `reduce`"
   ]
  },
  {
   "cell_type": "code",
   "execution_count": 26,
   "id": "298dc977",
   "metadata": {},
   "outputs": [
    {
     "name": "stdout",
     "output_type": "stream",
     "text": [
      "[1, 4, 9, 16]\n",
      "[2, 4]\n",
      "10\n"
     ]
    }
   ],
   "source": [
    "from functools import reduce\n",
    "nums = [1, 2, 3, 4]\n",
    "\n",
    "# map — Applies a function to each item in the list\n",
    "squares = list(map(lambda x: x**2, nums))\n",
    "print(squares)  # [1, 4, 9, 16]\n",
    "\n",
    "# filter — Selects items where the function returns True\n",
    "evens = list(filter(lambda x: x % 2 == 0, nums))\n",
    "print(evens)  # [2, 4]\n",
    "\n",
    "# reduce — Applies function cumulatively to items (e.g., sum)\n",
    "sum_all = reduce(lambda x, y: x + y, nums)\n",
    "print(sum_all)  # 10\n",
    "\n"
   ]
  },
  {
   "cell_type": "markdown",
   "id": "f80c372e",
   "metadata": {},
   "source": [
    "👉 **Explanation:**\n",
    "- `map(func, iterable)` — Transforms each element using `func`\n",
    "- `filter(func, iterable)` — Keeps elements where `func` returns `True`\n",
    "- `reduce(func, iterable)` — Combines items pairwise from left to right to a single value\n",
    "\n",
    "🧠 **Use Case Examples:**\n",
    "- `map` → Data transformation\n",
    "- `filter` → Data selection\n",
    "- `reduce` → Aggregation (e.g., product, sum, max)"
   ]
  },
  {
   "cell_type": "markdown",
   "id": "0a6fc980",
   "metadata": {},
   "source": [
    "### 🔹 `return` vs `print`\n",
    "- `return` ends a function and sends back a value.\n",
    "- `print` just displays output to the screen."
   ]
  },
  {
   "cell_type": "code",
   "execution_count": 18,
   "id": "e0769bc9",
   "metadata": {},
   "outputs": [
    {
     "name": "stdout",
     "output_type": "stream",
     "text": [
      "Printed\n",
      "Returned\n"
     ]
    }
   ],
   "source": [
    "def demo():\n",
    "    print(\"Printed\")\n",
    "    return \"Returned\"\n",
    "\n",
    "x = demo()  # Printed\n",
    "print(x)    # Returned"
   ]
  },
  {
   "cell_type": "markdown",
   "id": "6fd660c0",
   "metadata": {},
   "source": [
    "###  🔍 LEGB Rule (Scope Resolution)"
   ]
  },
  {
   "cell_type": "markdown",
   "id": "d7cc26d6",
   "metadata": {},
   "source": [
    "Python uses the LEGB rule to look up variables. It stands for:\n",
    "\n",
    "| Scope Type        | Description                                                                  |\n",
    "| ----------------- | ---------------------------------------------------------------------------- |\n",
    "| **L** – Local     | Names assigned inside a function (or lambda), not declared global            |\n",
    "| **E** – Enclosing | Names in the local scope of **enclosing functions** (nested functions)       |\n",
    "| **G** – Global    | Names assigned at the top-level of a module or declared global in a function |\n",
    "| **B** – Built-in  | Names preassigned in Python (like `len`, `sum`, `list`, etc.)                |\n"
   ]
  },
  {
   "cell_type": "markdown",
   "id": "46834979",
   "metadata": {},
   "source": [
    "#### 🔹 Example: Understanding LEGB"
   ]
  },
  {
   "cell_type": "code",
   "execution_count": 20,
   "id": "a8bb0ce4",
   "metadata": {},
   "outputs": [
    {
     "name": "stdout",
     "output_type": "stream",
     "text": [
      "local\n",
      "enclosing\n",
      "global\n"
     ]
    }
   ],
   "source": [
    "x = \"global\"\n",
    "\n",
    "def outer():\n",
    "    x = \"enclosing\"\n",
    "    \n",
    "    def inner():\n",
    "        x = \"local\"\n",
    "        print(x)  # local\n",
    "    \n",
    "    inner()\n",
    "    print(x)  # enclosing\n",
    "\n",
    "outer()\n",
    "print(x)  # global\n"
   ]
  },
  {
   "cell_type": "markdown",
   "id": "4c7a7daf",
   "metadata": {},
   "source": [
    "🔹 What Happens Here?\n",
    "**inner() prints \"local\"** — because it first looks for x` in its local scope.\n",
    "\n",
    "**outer() prints \"enclosing\"** — after inner()ends, it usesx` from the outer function.\n",
    "\n",
    "The last print(x) prints \"global\"` — referring to the module-level variable."
   ]
  },
  {
   "cell_type": "markdown",
   "id": "92d69af6",
   "metadata": {},
   "source": [
    "#### 🔹 No Local Variable?"
   ]
  },
  {
   "cell_type": "code",
   "execution_count": 21,
   "id": "d6e8dff2",
   "metadata": {},
   "outputs": [
    {
     "name": "stdout",
     "output_type": "stream",
     "text": [
      "10\n"
     ]
    }
   ],
   "source": [
    "x = 10\n",
    "\n",
    "def show():\n",
    "    print(x)\n",
    "\n",
    "show()  # 10 — found in global scope\n"
   ]
  },
  {
   "cell_type": "markdown",
   "id": "a42a9f3c",
   "metadata": {},
   "source": [
    "#### 🔹 Shadowing a Global Variable"
   ]
  },
  {
   "cell_type": "code",
   "execution_count": 22,
   "id": "ed39f98b",
   "metadata": {},
   "outputs": [
    {
     "name": "stdout",
     "output_type": "stream",
     "text": [
      "Inside: 100\n",
      "Outside: 5\n"
     ]
    }
   ],
   "source": [
    "x = 5\n",
    "\n",
    "def change():\n",
    "    x = 100  # This is a local x\n",
    "    print(\"Inside:\", x)\n",
    "\n",
    "change()\n",
    "print(\"Outside:\", x)  # Outside: 5\n"
   ]
  },
  {
   "cell_type": "markdown",
   "id": "93478e86",
   "metadata": {},
   "source": [
    "#### 🔹 Using global and nonlocal"
   ]
  },
  {
   "cell_type": "code",
   "execution_count": 23,
   "id": "87baa026",
   "metadata": {},
   "outputs": [
    {
     "name": "stdout",
     "output_type": "stream",
     "text": [
      "20\n"
     ]
    }
   ],
   "source": [
    "# global\n",
    "x = 10\n",
    "\n",
    "def change_global():\n",
    "    global x\n",
    "    x = 20\n",
    "\n",
    "change_global()\n",
    "print(x)  # 20\n"
   ]
  },
  {
   "cell_type": "code",
   "execution_count": 24,
   "id": "123c6af3",
   "metadata": {},
   "outputs": [
    {
     "name": "stdout",
     "output_type": "stream",
     "text": [
      "inner\n"
     ]
    }
   ],
   "source": [
    "# nonlocal\n",
    "def outer():\n",
    "    x = \"outer\"\n",
    "    def inner():\n",
    "        nonlocal x\n",
    "        x = \"inner\"\n",
    "    inner()\n",
    "    print(x)\n",
    "\n",
    "outer()  # inner\n"
   ]
  },
  {
   "cell_type": "markdown",
   "id": "92f8ca4d",
   "metadata": {},
   "source": [
    "| Scope Level | Can Modify From Inside Function? | Keyword Needed? |\n",
    "| ----------- | -------------------------------- | --------------- |\n",
    "| Local       | Yes                              | No              |\n",
    "| Enclosing   | Yes                              | `nonlocal`      |\n",
    "| Global      | Yes                              | `global`        |\n",
    "| Built-in    | No (read-only)                   | ✖️              |\n"
   ]
  },
  {
   "cell_type": "code",
   "execution_count": null,
   "id": "8bbf2661",
   "metadata": {},
   "outputs": [],
   "source": []
  }
 ],
 "metadata": {
  "kernelspec": {
   "display_name": "Python 3",
   "language": "python",
   "name": "python3"
  },
  "language_info": {
   "codemirror_mode": {
    "name": "ipython",
    "version": 3
   },
   "file_extension": ".py",
   "mimetype": "text/x-python",
   "name": "python",
   "nbconvert_exporter": "python",
   "pygments_lexer": "ipython3",
   "version": "3.8.8"
  }
 },
 "nbformat": 4,
 "nbformat_minor": 5
}
