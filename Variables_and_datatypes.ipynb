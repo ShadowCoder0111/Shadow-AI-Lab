{
 "cells": [
  {
   "cell_type": "markdown",
   "id": "964e3d3d",
   "metadata": {},
   "source": [
    "# Section 1: Introduction to Python & Data Types"
   ]
  },
  {
   "cell_type": "markdown",
   "id": "0d6053a2",
   "metadata": {},
   "source": [
    "#### What is Python?\n",
    "Python is a high-level, interpreted programming language known for its clean syntax and readability. It's widely used in data science, web development, automation, AI, and more."
   ]
  },
  {
   "cell_type": "markdown",
   "id": "f31f1ded",
   "metadata": {},
   "source": [
    "## Python Variables"
   ]
  },
  {
   "cell_type": "markdown",
   "id": "862112e1",
   "metadata": {},
   "source": [
    "#### Variable Creation"
   ]
  },
  {
   "cell_type": "code",
   "execution_count": 2,
   "id": "10598ccf",
   "metadata": {},
   "outputs": [],
   "source": [
    "x = 10\n",
    "name = \"Shadow\"\n",
    "price = 19.99"
   ]
  },
  {
   "cell_type": "markdown",
   "id": "3cecbcb1",
   "metadata": {},
   "source": [
    "Variables in Python are dynamically typed — no need to declare type beforehand."
   ]
  },
  {
   "cell_type": "code",
   "execution_count": 3,
   "id": "59a10f8c",
   "metadata": {},
   "outputs": [
    {
     "name": "stdout",
     "output_type": "stream",
     "text": [
      "Shadow 19.99\n"
     ]
    }
   ],
   "source": [
    "print(name,price)"
   ]
  },
  {
   "cell_type": "markdown",
   "id": "adfe368b",
   "metadata": {},
   "source": [
    "#####  📝 Note: In Jupyter Notebooks, the result of the last line in a cell is automatically displayed. However, in real Python applications or scripts, you must use `print()` to display output explicitly."
   ]
  },
  {
   "cell_type": "code",
   "execution_count": 17,
   "id": "fb12c96d",
   "metadata": {},
   "outputs": [
    {
     "name": "stdout",
     "output_type": "stream",
     "text": [
      "20\n"
     ]
    }
   ],
   "source": [
    "# Jupyter Notebook behavior\n",
    "x = 10\n",
    "x  # This will automatically display 10 in Jupyter\n",
    "\n",
    "# Script behavior\n",
    "y = 20\n",
    "print(y)  # This is required to display 20 in real Python scripts"
   ]
  },
  {
   "cell_type": "markdown",
   "id": "df8a0baf",
   "metadata": {},
   "source": [
    "🧠 In Jupyter Notebooks:\n",
    "- The **last line** of a code cell is automatically printed.\n",
    "\n",
    "📦 In Python Scripts:\n",
    "- You must use `print()` to see any output. Without it, nothing is displayed."
   ]
  },
  {
   "cell_type": "markdown",
   "id": "30cff0c5",
   "metadata": {},
   "source": [
    "###  Data Types Overview"
   ]
  },
  {
   "cell_type": "markdown",
   "id": "b11b5010",
   "metadata": {},
   "source": [
    "| Type      | Description                     | Mutable | Sequence | Examples                    |\n",
    "|-----------|---------------------------------|---------|----------|-----------------------------|\n",
    "| `int`     | Integer numbers                 | ❌       | ❌        | `10`, `-3`                  |\n",
    "| `float`   | Decimal numbers                 | ❌       | ❌        | `3.14`, `-2.0`              |\n",
    "| `complex` | Complex numbers (real+imaginary)| ❌       | ❌        | `3 + 4j`                    |\n",
    "| `bool`    | Boolean values (`True`, `False`)| ❌       | ❌        | `True`, `False`             |\n",
    "| `str`     | Text strings                    | ❌       | ✅        | `\"hello\"`, `'world'`        |\n",
    "| `list`    | Ordered mutable collection      | ✅       | ✅        | `[1, 2, 3]`                 |\n",
    "| `tuple`   | Ordered immutable collection    | ❌       | ✅        | `(1, 2, 3)`                 |\n",
    "| `set`     | Unordered unique elements       | ✅       | ❌        | `{1, 2, 3}`                 |\n",
    "| `dict`    | Key-value pairs                 | ✅       | ❌        | `{\"a\": 1, \"b\": 2}`          |\n",
    "| `None`    | Null object                     | ❌       | ❌        | `None`                      |\n"
   ]
  },
  {
   "cell_type": "code",
   "execution_count": 1,
   "id": "59988e90",
   "metadata": {},
   "outputs": [
    {
     "name": "stdout",
     "output_type": "stream",
     "text": [
      "<class 'int'>\n",
      "<class 'float'>\n",
      "<class 'str'>\n",
      "<class 'list'>\n",
      "<class 'dict'>\n",
      "<class 'tuple'>\n"
     ]
    }
   ],
   "source": [
    "# Common Data Types in Python\n",
    "\n",
    "# Integer\n",
    "integer_example = 10\n",
    "\n",
    "# Float\n",
    "float_example = 20.5\n",
    "\n",
    "# String\n",
    "string_example = \"Hello, Python!\"\n",
    "\n",
    "# List\n",
    "list_example = [1, 2, 3, 4, 5]\n",
    "\n",
    "# Dictionary\n",
    "dict_example = {\"name\": \"Shadow\", \"age\": 30}\n",
    "\n",
    "# Tuple\n",
    "tuple_example = (1, 2, 3)\n",
    "\n",
    "# Print examples\n",
    "print(type(integer_example))\n",
    "print(type(float_example))\n",
    "print(type(string_example))\n",
    "print(type(list_example))\n",
    "print(type(dict_example))\n",
    "print(type(tuple_example))"
   ]
  },
  {
   "cell_type": "markdown",
   "id": "b672385a",
   "metadata": {},
   "source": [
    "Here are some common data types in Python:\n",
    "- **Integer**: Whole numbers, e.g., 10.\n",
    "- **Float**: Decimal numbers, e.g., 20.5.\n",
    "- **String**: Text, e.g., \"Hello, Python!\".\n",
    "- **List**: Ordered collection, e.g., [1, 2, 3].\n",
    "- **Dictionary**: Key-value pairs, e.g., {\"name\": \"Shadow\", \"age\": 30}.\n",
    "- **Tuple**: Immutable ordered collection, e.g., (1, 2, 3).\n",
    "\n",
    "The `type()` function is used to check the type of a variable."
   ]
  },
  {
   "cell_type": "markdown",
   "id": "5620498b",
   "metadata": {},
   "source": [
    "#### Complex Numbers"
   ]
  },
  {
   "cell_type": "code",
   "execution_count": 2,
   "id": "e994a3a8",
   "metadata": {},
   "outputs": [
    {
     "name": "stdout",
     "output_type": "stream",
     "text": [
      "3.0\n",
      "4.0\n",
      "(3-4j)\n"
     ]
    }
   ],
   "source": [
    "z = 3 + 4j\n",
    "print(z.real)      # 3.0\n",
    "print(z.imag)      # 4.0\n",
    "print(z.conjugate())  # (3-4j)"
   ]
  },
  {
   "cell_type": "markdown",
   "id": "63fef0ba",
   "metadata": {},
   "source": [
    "####  Booleans"
   ]
  },
  {
   "cell_type": "code",
   "execution_count": 3,
   "id": "aa2acab4",
   "metadata": {},
   "outputs": [],
   "source": [
    "is_smart = True\n",
    "is_broke = False"
   ]
  },
  {
   "cell_type": "markdown",
   "id": "1e54f4a2",
   "metadata": {},
   "source": [
    "Booleans are a subtype of integers in Python:"
   ]
  },
  {
   "cell_type": "code",
   "execution_count": 4,
   "id": "40ecff39",
   "metadata": {},
   "outputs": [
    {
     "data": {
      "text/plain": [
       "0"
      ]
     },
     "execution_count": 4,
     "metadata": {},
     "output_type": "execute_result"
    }
   ],
   "source": [
    "int(True)   # 1\n",
    "int(False)  # 0"
   ]
  },
  {
   "cell_type": "markdown",
   "id": "1e77f9ed",
   "metadata": {},
   "source": [
    "###    🔹  Strings"
   ]
  },
  {
   "cell_type": "markdown",
   "id": "a13c0554",
   "metadata": {},
   "source": [
    "#### Creation and indexing"
   ]
  },
  {
   "cell_type": "code",
   "execution_count": 6,
   "id": "d081b0ae",
   "metadata": {},
   "outputs": [
    {
     "name": "stdout",
     "output_type": "stream",
     "text": [
      "S\n",
      "h\n"
     ]
    }
   ],
   "source": [
    "msg = 'Shadow'\n",
    "print(msg[0])\n",
    "print(msg[1])"
   ]
  },
  {
   "cell_type": "markdown",
   "id": "41ad9cd4",
   "metadata": {},
   "source": [
    "####   ✂️ Slicing"
   ]
  },
  {
   "cell_type": "code",
   "execution_count": 7,
   "id": "9c05aa1f",
   "metadata": {},
   "outputs": [
    {
     "name": "stdout",
     "output_type": "stream",
     "text": [
      "had\n",
      "Sha\n",
      "wodahS\n",
      "Sao\n"
     ]
    }
   ],
   "source": [
    "msg = \"Shadow\"\n",
    "\n",
    "print(msg[1:4])     # 'had' → characters from index 1 to 3 (4 is not included)\n",
    "print(msg[:3])      # 'Sha' → characters from start to index 2\n",
    "print(msg[::-1])    # 'wodahS' → reversed string using step -1\n",
    "print(msg[::2])     # 'Sao' → every 2nd character from start (step = 2)"
   ]
  },
  {
   "cell_type": "markdown",
   "id": "62875fc9",
   "metadata": {},
   "source": [
    "####  🔧 Common String Methods"
   ]
  },
  {
   "cell_type": "code",
   "execution_count": 15,
   "id": "43e745b6",
   "metadata": {},
   "outputs": [
    {
     "name": "stdout",
     "output_type": "stream",
     "text": [
      "SHADOW\n",
      "shadow\n",
      "True\n",
      "True\n",
      "2\n",
      "ShXdow\n"
     ]
    }
   ],
   "source": [
    "msg = \"Shadow\"\n",
    "\n",
    "print(msg.upper())           # 'SHADOW' → converts all characters to uppercase\n",
    "print(msg.lower())           # 'shadow' → converts all characters to lowercase\n",
    "print(msg.startswith(\"Sha\")) # True → checks if string starts with \"Sha\"\n",
    "print(msg.endswith(\"ow\"))    # True → checks if string ends with \"ow\"\n",
    "print(msg.find(\"a\"))         # 2 → returns index of first occurrence of \"a\"\n",
    "print(msg.replace(\"a\", \"X\")) # 'ShXdow' → replaces all \"a\" with \"X\""
   ]
  },
  {
   "cell_type": "markdown",
   "id": "29f2a24f",
   "metadata": {},
   "source": [
    "➡️ Tip: You can type `msg.` and press `Tab` in a Jupyter Notebook to see all available string methods using auto-complete."
   ]
  },
  {
   "cell_type": "markdown",
   "id": "f1d5b7f1",
   "metadata": {},
   "source": [
    "💡 Tip: Add a `?` after any method (e.g., `msg.upper?`) in a Jupyter Notebook to see its documentation — including what it does and what parameters it accepts."
   ]
  },
  {
   "cell_type": "code",
   "execution_count": 16,
   "id": "5c2e7571",
   "metadata": {},
   "outputs": [],
   "source": [
    "msg.zfill?"
   ]
  },
  {
   "cell_type": "markdown",
   "id": "e78deab6",
   "metadata": {},
   "source": [
    "####   ✅ All String Formatting Methods"
   ]
  },
  {
   "cell_type": "markdown",
   "id": "2174037e",
   "metadata": {},
   "source": [
    "#####  🔹 1. f-strings (Recommended - Python 3.6+)"
   ]
  },
  {
   "cell_type": "code",
   "execution_count": 1,
   "id": "b72b4f08",
   "metadata": {},
   "outputs": [
    {
     "name": "stdout",
     "output_type": "stream",
     "text": [
      " My name is shadow and my age is 50 \n"
     ]
    }
   ],
   "source": [
    "name = 'shadow'\n",
    "age = 50\n",
    "print(f' My name is {name} and my age is {age} ')\n"
   ]
  },
  {
   "cell_type": "markdown",
   "id": "cf3d11e8",
   "metadata": {},
   "source": [
    "Features:\n",
    "\n",
    "Inline expressions: f\"{2 + 3}\"\n",
    "\n",
    "Format floats: f\"{pi:.2f}\"\n",
    "\n",
    "Align text: f\"{'centered':^15}\""
   ]
  },
  {
   "cell_type": "markdown",
   "id": "ebae1cce",
   "metadata": {},
   "source": [
    "#####  🔹 2. .format() Method (Pre-3.6 style)"
   ]
  },
  {
   "cell_type": "code",
   "execution_count": 2,
   "id": "49bb20b2",
   "metadata": {},
   "outputs": [
    {
     "name": "stdout",
     "output_type": "stream",
     "text": [
      "My name is Shadow and I'm 27 years old.\n"
     ]
    }
   ],
   "source": [
    "print(\"My name is {} and I'm {} years old.\".format(\"Shadow\", 27))\n",
    "# My name is Shadow and I'm 27 years old.\n"
   ]
  },
  {
   "cell_type": "markdown",
   "id": "1468f45f",
   "metadata": {},
   "source": [
    "###### Positional and keyword usage:"
   ]
  },
  {
   "cell_type": "code",
   "execution_count": 3,
   "id": "100db62b",
   "metadata": {},
   "outputs": [
    {
     "name": "stdout",
     "output_type": "stream",
     "text": [
      "Name: Shadow, Age: 35\n",
      "Name: Shadow, Age: 43\n"
     ]
    }
   ],
   "source": [
    "print(\"Name: {0}, Age: {1}\".format(\"Shadow\", 35))\n",
    "print(\"Name: {name}, Age: {age}\".format(name=\"Shadow\", age=43))\n"
   ]
  },
  {
   "cell_type": "markdown",
   "id": "4ed06c99",
   "metadata": {},
   "source": [
    "#####  🔹 3. % Formatting (Old-style, like C)"
   ]
  },
  {
   "cell_type": "code",
   "execution_count": 5,
   "id": "15144181",
   "metadata": {},
   "outputs": [
    {
     "name": "stdout",
     "output_type": "stream",
     "text": [
      "My name is Shadow and I'm 18 years old.\n"
     ]
    }
   ],
   "source": [
    "name = \"Shadow\"\n",
    "age = 18\n",
    "print(\"My name is %s and I'm %d years old.\" % (name, age))\n",
    "# My name is Shadow and I'm 27 years old.\n"
   ]
  },
  {
   "cell_type": "markdown",
   "id": "55026dfd",
   "metadata": {},
   "source": [
    "| Format Code | Description      |\n",
    "| ----------- | ---------------- |\n",
    "| `%s`        | String/Text      |\n",
    "| `%d`        | Integer          |\n",
    "| `%f`        | Float            |\n",
    "| `%.2f`      | Float (2 digits) |\n"
   ]
  },
  {
   "cell_type": "markdown",
   "id": "addd283b",
   "metadata": {},
   "source": [
    "#####   🧪 Bonus: Formatting Numbers"
   ]
  },
  {
   "cell_type": "code",
   "execution_count": 6,
   "id": "9f0ebce8",
   "metadata": {},
   "outputs": [
    {
     "name": "stdout",
     "output_type": "stream",
     "text": [
      "Rounded: 3.14\n",
      "1,234,567.89\n"
     ]
    }
   ],
   "source": [
    "pi = 3.14159265\n",
    "print(f\"Rounded: {pi:.2f}\")         # Rounded: 3.14\n",
    "print(\"{:,.2f}\".format(1234567.89)) # 1,234,567.89\n"
   ]
  },
  {
   "cell_type": "markdown",
   "id": "4b916ed3",
   "metadata": {},
   "source": [
    "### 📘  Lists & Tuples (Master-Level)"
   ]
  },
  {
   "cell_type": "markdown",
   "id": "103181b0",
   "metadata": {},
   "source": [
    "#### 🔹 Lists: Ordered, Mutable Collections"
   ]
  },
  {
   "cell_type": "markdown",
   "id": "e02341a8",
   "metadata": {},
   "source": [
    "#### ✅ Creation"
   ]
  },
  {
   "cell_type": "code",
   "execution_count": 22,
   "id": "f1512591",
   "metadata": {},
   "outputs": [],
   "source": [
    "my_list = [1, 2, 3, 4, 5]"
   ]
  },
  {
   "cell_type": "markdown",
   "id": "b9265f03",
   "metadata": {},
   "source": [
    "\n",
    "#### ✅ Indexing & Slicing"
   ]
  },
  {
   "cell_type": "code",
   "execution_count": 20,
   "id": "e9fd09bb",
   "metadata": {},
   "outputs": [
    {
     "name": "stdout",
     "output_type": "stream",
     "text": [
      "1\n",
      "6\n",
      "[2, 3, 4]\n"
     ]
    }
   ],
   "source": [
    "print(my_list[0])     # 1\n",
    "print(my_list[-1])    # 5\n",
    "print(my_list[1:4])   # [2, 3, 4]"
   ]
  },
  {
   "cell_type": "markdown",
   "id": "25dc4231",
   "metadata": {},
   "source": [
    "#### ✅ Common List Methods"
   ]
  },
  {
   "cell_type": "code",
   "execution_count": 12,
   "id": "5deb4982",
   "metadata": {},
   "outputs": [],
   "source": [
    "my_list.append(6)            # Add to end\n",
    "my_list.insert(2, 7)       # Insert at index\n",
    "my_list.remove(2)            # Remove first occurrence\n",
    "my_list.pop()                # Remove last item\n",
    "my_list.index(4)             # Find index of item\n",
    "my_list.count(3)             # Count occurrences\n",
    "my_list.reverse()            # Reverse list in place\n",
    "my_list.sort()               # Sort list\n",
    "my_list.clear()              # Empty the list"
   ]
  },
  {
   "cell_type": "code",
   "execution_count": 23,
   "id": "531df696",
   "metadata": {},
   "outputs": [
    {
     "data": {
      "text/plain": [
       "[1, 2, 3, 4, 5, 6]"
      ]
     },
     "execution_count": 23,
     "metadata": {},
     "output_type": "execute_result"
    }
   ],
   "source": [
    "my_list.append(6)  \n",
    "my_list"
   ]
  },
  {
   "cell_type": "code",
   "execution_count": 24,
   "id": "8dd728eb",
   "metadata": {},
   "outputs": [],
   "source": [
    "my_list.insert(2, 7) "
   ]
  },
  {
   "cell_type": "code",
   "execution_count": 25,
   "id": "9aebd83d",
   "metadata": {},
   "outputs": [
    {
     "data": {
      "text/plain": [
       "[1, 2, 7, 3, 4, 5, 6]"
      ]
     },
     "execution_count": 25,
     "metadata": {},
     "output_type": "execute_result"
    }
   ],
   "source": [
    "my_list"
   ]
  },
  {
   "cell_type": "code",
   "execution_count": 26,
   "id": "dd17e0e9",
   "metadata": {},
   "outputs": [
    {
     "data": {
      "text/plain": [
       "[1, 7, 3, 4, 5, 6]"
      ]
     },
     "execution_count": 26,
     "metadata": {},
     "output_type": "execute_result"
    }
   ],
   "source": [
    "my_list.remove(2) \n",
    "my_list"
   ]
  },
  {
   "cell_type": "code",
   "execution_count": 27,
   "id": "2215f186",
   "metadata": {},
   "outputs": [
    {
     "data": {
      "text/plain": [
       "[1, 7, 3, 4, 5]"
      ]
     },
     "execution_count": 27,
     "metadata": {},
     "output_type": "execute_result"
    }
   ],
   "source": [
    "my_list.pop() \n",
    "my_list"
   ]
  },
  {
   "cell_type": "code",
   "execution_count": 28,
   "id": "1ac7bc36",
   "metadata": {},
   "outputs": [
    {
     "data": {
      "text/plain": [
       "3"
      ]
     },
     "execution_count": 28,
     "metadata": {},
     "output_type": "execute_result"
    }
   ],
   "source": [
    "my_list.index(4)"
   ]
  },
  {
   "cell_type": "code",
   "execution_count": 29,
   "id": "72822db1",
   "metadata": {},
   "outputs": [
    {
     "data": {
      "text/plain": [
       "1"
      ]
     },
     "execution_count": 29,
     "metadata": {},
     "output_type": "execute_result"
    }
   ],
   "source": [
    "my_list.count(3)  "
   ]
  },
  {
   "cell_type": "code",
   "execution_count": 30,
   "id": "983d0d6e",
   "metadata": {},
   "outputs": [],
   "source": [
    "my_list.reverse() "
   ]
  },
  {
   "cell_type": "code",
   "execution_count": 31,
   "id": "0d990ad8",
   "metadata": {},
   "outputs": [
    {
     "data": {
      "text/plain": [
       "[5, 4, 3, 7, 1]"
      ]
     },
     "execution_count": 31,
     "metadata": {},
     "output_type": "execute_result"
    }
   ],
   "source": [
    "my_list"
   ]
  },
  {
   "cell_type": "code",
   "execution_count": 32,
   "id": "7a87db8e",
   "metadata": {},
   "outputs": [
    {
     "data": {
      "text/plain": [
       "[1, 3, 4, 5, 7]"
      ]
     },
     "execution_count": 32,
     "metadata": {},
     "output_type": "execute_result"
    }
   ],
   "source": [
    "my_list.sort()\n",
    "my_list"
   ]
  },
  {
   "cell_type": "code",
   "execution_count": 33,
   "id": "46929cd7",
   "metadata": {},
   "outputs": [
    {
     "data": {
      "text/plain": [
       "[]"
      ]
     },
     "execution_count": 33,
     "metadata": {},
     "output_type": "execute_result"
    }
   ],
   "source": [
    "my_list.clear()\n",
    "my_list"
   ]
  },
  {
   "cell_type": "markdown",
   "id": "11cb8a88",
   "metadata": {},
   "source": [
    "#### Type Casting"
   ]
  },
  {
   "cell_type": "code",
   "execution_count": 3,
   "id": "54a51446",
   "metadata": {},
   "outputs": [],
   "source": [
    "list_from_string = list(\"Shadow\")  # ['S', 'h', 'a', 'd', 'o', 'w']\n",
    "list_from_tuple = list((1, 2, 3))   # [1, 2, 3]"
   ]
  },
  {
   "cell_type": "markdown",
   "id": "abd33527",
   "metadata": {},
   "source": [
    "#### Trickier Concepts"
   ]
  },
  {
   "cell_type": "code",
   "execution_count": 4,
   "id": "c956c2eb",
   "metadata": {},
   "outputs": [
    {
     "name": "stdout",
     "output_type": "stream",
     "text": [
      "[[1, 0, 0], [1, 0, 0], [1, 0, 0]]\n"
     ]
    }
   ],
   "source": [
    "# Mutable behavior in nested lists\n",
    "x = [[0] * 3] * 3\n",
    "x[0][0] = 1\n",
    "print(x)  # [[1, 0, 0], [1, 0, 0], [1, 0, 0]]\n",
    "# Because all 3 inner lists reference the same object"
   ]
  },
  {
   "cell_type": "markdown",
   "id": "3a12c320",
   "metadata": {},
   "source": [
    "##### Using list comprehension"
   ]
  },
  {
   "cell_type": "code",
   "execution_count": 13,
   "id": "6761418a",
   "metadata": {},
   "outputs": [
    {
     "data": {
      "text/plain": [
       "[0, 1, 4, 9, 16]"
      ]
     },
     "execution_count": 13,
     "metadata": {},
     "output_type": "execute_result"
    }
   ],
   "source": [
    "squares = [i*i for i in range(5)]  # [0, 1, 4, 9, 16]\n",
    "squares"
   ]
  },
  {
   "cell_type": "markdown",
   "id": "a59db4cd",
   "metadata": {},
   "source": [
    "### 📘 Python Tuples: Deep Dive"
   ]
  },
  {
   "cell_type": "markdown",
   "id": "dc17cb50",
   "metadata": {},
   "source": [
    "#### 🔹 1. What is a Tuple?\n",
    "- A **tuple** is an immutable, ordered collection that allows duplicates.\n",
    "- Defined using parentheses: `()`"
   ]
  },
  {
   "cell_type": "code",
   "execution_count": 16,
   "id": "81a8cbd1",
   "metadata": {},
   "outputs": [
    {
     "data": {
      "text/plain": [
       "(10, 20, 30)"
      ]
     },
     "execution_count": 16,
     "metadata": {},
     "output_type": "execute_result"
    }
   ],
   "source": [
    "my_tuple = (10, 20, 30)\n",
    "my_tuple"
   ]
  },
  {
   "cell_type": "markdown",
   "id": "4410f191",
   "metadata": {},
   "source": [
    "#### 🔹 2. Indexing & Slicing"
   ]
  },
  {
   "cell_type": "code",
   "execution_count": 17,
   "id": "ec99aab4",
   "metadata": {},
   "outputs": [
    {
     "name": "stdout",
     "output_type": "stream",
     "text": [
      "100\n",
      "(200, 300)\n",
      "(400, 300, 200, 100)\n"
     ]
    }
   ],
   "source": [
    "t = (100, 200, 300, 400)\n",
    "print(t[0])     # 100\n",
    "print(t[1:3])   # (200, 300)\n",
    "print(t[::-1])  # (400, 300, 200, 100)"
   ]
  },
  {
   "cell_type": "markdown",
   "id": "0a10315e",
   "metadata": {},
   "source": [
    "#### 🔹 3. Tuple Methods"
   ]
  },
  {
   "cell_type": "code",
   "execution_count": 19,
   "id": "48109f4f",
   "metadata": {},
   "outputs": [
    {
     "name": "stdout",
     "output_type": "stream",
     "text": [
      "2\n",
      "3\n"
     ]
    }
   ],
   "source": [
    "t = (1, 2, 2, 3, 4)\n",
    "print(t.count(2))   # 2 → frequency\n",
    "print(t.index(3))   # 3 → first index of 3"
   ]
  },
  {
   "cell_type": "markdown",
   "id": "1105509a",
   "metadata": {},
   "source": [
    "#### 🔹 4. Tuple Unpacking"
   ]
  },
  {
   "cell_type": "code",
   "execution_count": 20,
   "id": "a0b68bd6",
   "metadata": {},
   "outputs": [
    {
     "name": "stdout",
     "output_type": "stream",
     "text": [
      "Nova 25 AI\n"
     ]
    }
   ],
   "source": [
    "person = (\"Nova\", 25, \"AI\")\n",
    "name, age, field = person\n",
    "print(name, age, field)\n"
   ]
  },
  {
   "cell_type": "code",
   "execution_count": 21,
   "id": "42d8b8d9",
   "metadata": {},
   "outputs": [
    {
     "name": "stdout",
     "output_type": "stream",
     "text": [
      "1\n",
      "[2, 3, 4]\n",
      "5\n"
     ]
    }
   ],
   "source": [
    "# Using * to unpack remaining values\n",
    "data = (1, 2, 3, 4, 5)\n",
    "a, *b, c = data\n",
    "print(a)  # 1\n",
    "print(b)  # [2, 3, 4]\n",
    "print(c)  # 5"
   ]
  },
  {
   "cell_type": "markdown",
   "id": "8261c0d9",
   "metadata": {},
   "source": [
    "#### 🔹 5. Type Casting"
   ]
  },
  {
   "cell_type": "code",
   "execution_count": 22,
   "id": "5fc8ec9c",
   "metadata": {},
   "outputs": [],
   "source": [
    "tuple_from_list = tuple([\"a\", \"b\", \"c\"])  # (\"a\", \"b\", \"c\")"
   ]
  },
  {
   "cell_type": "markdown",
   "id": "e0f9ac33",
   "metadata": {},
   "source": [
    "#### 🔹 6. Use Cases Comparison\n",
    "\n",
    "| Feature        | List                  | Tuple                   |\n",
    "|----------------|------------------------|--------------------------|\n",
    "| Mutability     | Mutable                | Immutable                |\n",
    "| Syntax         | `[1, 2]`               | `(1, 2)`                 |\n",
    "| Performance    | Slower (changeable)    | Faster (fixed structure) |\n",
    "| Use Cases      | Dynamic data           | Constant config, keys    |"
   ]
  },
  {
   "cell_type": "markdown",
   "id": "54ef09ec",
   "metadata": {},
   "source": [
    "## 🧩 Dictionaries (`dict`) in Python"
   ]
  },
  {
   "cell_type": "markdown",
   "id": "c1ae362f",
   "metadata": {},
   "source": [
    "### 🔹 What is a Dictionary?\n",
    "A dictionary is an unordered, mutable, and indexed collection of key-value pairs. Keys must be immutable (str, int, tuple), and values can be any data type.\n"
   ]
  },
  {
   "cell_type": "code",
   "execution_count": 25,
   "id": "777739d2",
   "metadata": {},
   "outputs": [
    {
     "name": "stdout",
     "output_type": "stream",
     "text": [
      "{'name': 'Shadow', 'age': 22}\n"
     ]
    }
   ],
   "source": [
    "person = {\"name\": \"Shadow\", \"age\": 22}\n",
    "print(person)  # {'name': 'Shadow', 'age': 22}"
   ]
  },
  {
   "cell_type": "markdown",
   "id": "17740636",
   "metadata": {},
   "source": [
    "\n",
    "### 🔹 Accessing & Modifying Values"
   ]
  },
  {
   "cell_type": "code",
   "execution_count": 26,
   "id": "a9630295",
   "metadata": {},
   "outputs": [
    {
     "name": "stdout",
     "output_type": "stream",
     "text": [
      "Shadow\n",
      "22\n",
      "{'name': 'Shadow', 'age': 23, 'city': 'Delhi'}\n"
     ]
    }
   ],
   "source": [
    "print(person[\"name\"])       # Shadow\n",
    "print(person.get(\"age\"))    # 22\n",
    "\n",
    "person[\"age\"] = 23          # Update existing key\n",
    "person[\"city\"] = \"Delhi\"    # Add new key\n",
    "print(person)  # {'name': 'Shadow', 'age': 23, 'city': 'Delhi'}"
   ]
  },
  {
   "cell_type": "markdown",
   "id": "2fbbc753",
   "metadata": {},
   "source": [
    "### 🔹 Common Dictionary Methods"
   ]
  },
  {
   "cell_type": "code",
   "execution_count": 28,
   "id": "6897da23",
   "metadata": {},
   "outputs": [
    {
     "name": "stdout",
     "output_type": "stream",
     "text": [
      "dict_keys(['name', 'age', 'city'])\n",
      "dict_values(['Shadow', 23, 'Delhi'])\n",
      "dict_items([('name', 'Shadow'), ('age', 23), ('city', 'Delhi')])\n"
     ]
    }
   ],
   "source": [
    "print(person.keys())    # dict_keys(['name', 'age', 'city'])\n",
    "print(person.values())  # dict_values(['Shadow', 23, 'Delhi'])\n",
    "print(person.items())   # dict_items([('name', 'Shadow'), ('age', 23), ('city', 'Delhi')])"
   ]
  },
  {
   "cell_type": "code",
   "execution_count": 29,
   "id": "eca77e24",
   "metadata": {},
   "outputs": [
    {
     "name": "stdout",
     "output_type": "stream",
     "text": [
      "{'name': 'Shadow', 'age': 23, 'city': 'Delhi', 'profession': 'Coder'}\n",
      "{'name': 'Shadow', 'city': 'Delhi', 'profession': 'Coder'}\n",
      "{'name': 'Shadow', 'city': 'Delhi'}\n",
      "{}\n"
     ]
    }
   ],
   "source": [
    "person.update({\"profession\": \"Coder\"})\n",
    "print(person)  # {'name': 'Shadow', 'age': 23, 'city': 'Delhi', 'profession': 'Coder'}\n",
    "\n",
    "person.pop(\"age\")\n",
    "print(person)  # {'name': 'Shadow', 'city': 'Delhi', 'profession': 'Coder'}\n",
    "\n",
    "# popitem removes the last inserted item\n",
    "person.popitem()\n",
    "print(person)  # {'name': 'Shadow', 'city': 'Delhi'}\n",
    "\n",
    "# Clear all items\n",
    "person.clear()\n",
    "print(person)  # {}"
   ]
  },
  {
   "cell_type": "markdown",
   "id": "38317afe",
   "metadata": {},
   "source": [
    "### 🔹 Tricks & Caveats\n",
    "- Keys must be immutable (e.g., str, int, tuple)\n",
    "- Values can be anything (list, dict, etc.)\n",
    "- Duplicate keys will overwrite the previous one\n"
   ]
  },
  {
   "cell_type": "code",
   "execution_count": 30,
   "id": "42710db5",
   "metadata": {},
   "outputs": [
    {
     "name": "stdout",
     "output_type": "stream",
     "text": [
      "{'a': 2}\n"
     ]
    }
   ],
   "source": [
    "d = {\"a\": 1, \"a\": 2}\n",
    "print(d)  # {'a': 2}"
   ]
  },
  {
   "cell_type": "markdown",
   "id": "27673cc9",
   "metadata": {},
   "source": [
    "\n",
    "### 🔹 Dictionary Comprehension"
   ]
  },
  {
   "cell_type": "code",
   "execution_count": 31,
   "id": "8b198d8f",
   "metadata": {},
   "outputs": [
    {
     "data": {
      "text/plain": [
       "{0: 0, 1: 1, 2: 4, 3: 9, 4: 16}"
      ]
     },
     "execution_count": 31,
     "metadata": {},
     "output_type": "execute_result"
    }
   ],
   "source": [
    "squares = {x:x**2 for x in range(5)}\n",
    "squares"
   ]
  },
  {
   "cell_type": "markdown",
   "id": "32b9ddec",
   "metadata": {},
   "source": [
    "### 🔹 Nested Dictionaries"
   ]
  },
  {
   "cell_type": "code",
   "execution_count": 32,
   "id": "7bdf7b7a",
   "metadata": {},
   "outputs": [
    {
     "name": "stdout",
     "output_type": "stream",
     "text": [
      "shadow@example.com\n"
     ]
    }
   ],
   "source": [
    "user = {\n",
    "    \"name\": \"Shadow\",\n",
    "    \"contacts\": {\n",
    "        \"email\": \"shadow@example.com\",\n",
    "        \"phone\": \"12345\"\n",
    "    }\n",
    "}\n",
    "print(user[\"contacts\"][\"email\"])  # shadow@example.com"
   ]
  },
  {
   "cell_type": "markdown",
   "id": "7202cca5",
   "metadata": {},
   "source": [
    "\n",
    "## 🧩 Sets (`set`) and Frozen Sets (`frozenset`)"
   ]
  },
  {
   "cell_type": "markdown",
   "id": "0af9f3e0",
   "metadata": {},
   "source": [
    "### 🔹 What is a Set?\n",
    "A set is an unordered collection of unique items. Duplicate entries are automatically removed."
   ]
  },
  {
   "cell_type": "code",
   "execution_count": 33,
   "id": "3d542914",
   "metadata": {},
   "outputs": [
    {
     "name": "stdout",
     "output_type": "stream",
     "text": [
      "{1, 2, 3}\n"
     ]
    }
   ],
   "source": [
    "nums = {1, 2, 3, 2, 1}\n",
    "print(nums)  # {1, 2, 3}"
   ]
  },
  {
   "cell_type": "markdown",
   "id": "4b9481bd",
   "metadata": {},
   "source": [
    "### 🔹 Set Operations"
   ]
  },
  {
   "cell_type": "code",
   "execution_count": 35,
   "id": "1b012ff6",
   "metadata": {},
   "outputs": [
    {
     "name": "stdout",
     "output_type": "stream",
     "text": [
      "{1, 2, 3, 4, 5}\n",
      "{3}\n",
      "{1, 2}\n",
      "{1, 2, 4, 5}\n"
     ]
    }
   ],
   "source": [
    "a = {1, 2, 3}\n",
    "b = {3, 4, 5}\n",
    "print(a.union(b))              # {1, 2, 3, 4, 5}\n",
    "print(a.intersection(b))       # {3}\n",
    "print(a.difference(b))         # {1, 2}\n",
    "print(a.symmetric_difference(b))  # {1, 2, 4, 5}"
   ]
  },
  {
   "cell_type": "markdown",
   "id": "278d2715",
   "metadata": {},
   "source": [
    "### 🔹 Set Methods"
   ]
  },
  {
   "cell_type": "code",
   "execution_count": 36,
   "id": "300bcc2d",
   "metadata": {},
   "outputs": [
    {
     "name": "stdout",
     "output_type": "stream",
     "text": [
      "{10, 11, 12}\n",
      "{10, 12}\n",
      "set()\n"
     ]
    }
   ],
   "source": [
    "s = set()\n",
    "s.add(10)\n",
    "s.update([11, 12])\n",
    "print(s)  # {10, 11, 12}\n",
    "\n",
    "s.remove(11)   # Throws error if not found\n",
    "s.discard(15)  # No error if not found\n",
    "print(s)  # {10, 12}\n",
    "\n",
    "s.clear()\n",
    "print(s)  # set()"
   ]
  },
  {
   "cell_type": "markdown",
   "id": "9dde84df",
   "metadata": {},
   "source": [
    "### 🔹 Membership & Comparison"
   ]
  },
  {
   "cell_type": "code",
   "execution_count": 37,
   "id": "39179d8b",
   "metadata": {},
   "outputs": [
    {
     "name": "stdout",
     "output_type": "stream",
     "text": [
      "True\n",
      "True\n",
      "False\n"
     ]
    }
   ],
   "source": [
    "x = {1, 2, 3}\n",
    "y = {1, 2, 3, 4}\n",
    "\n",
    "print(2 in x)      # True\n",
    "print(x <= y)      # True (subset)\n",
    "print(x == y)      # False"
   ]
  },
  {
   "cell_type": "markdown",
   "id": "91230827",
   "metadata": {},
   "source": [
    "\n",
    "### 🔹 Frozenset (Immutable Set)"
   ]
  },
  {
   "cell_type": "code",
   "execution_count": 39,
   "id": "e50378e6",
   "metadata": {},
   "outputs": [
    {
     "name": "stdout",
     "output_type": "stream",
     "text": [
      "frozenset({1, 2, 3})\n"
     ]
    }
   ],
   "source": [
    "fs = frozenset([1, 2, 3])\n",
    "print(fs)  # frozenset({1, 2, 3})\n",
    "\n",
    "# fs.add(4) would raise AttributeError"
   ]
  },
  {
   "cell_type": "markdown",
   "id": "ba41c975",
   "metadata": {},
   "source": [
    "### 🔹 Tricks & Caveats\n",
    "- `set()` creates an empty set\n",
    "- `{}` creates an empty dictionary, not a set\n",
    "- Sets are not subscriptable (no indexing/slicing)"
   ]
  },
  {
   "cell_type": "code",
   "execution_count": 41,
   "id": "2dc972f9",
   "metadata": {},
   "outputs": [
    {
     "name": "stdout",
     "output_type": "stream",
     "text": [
      "<class 'dict'>\n"
     ]
    }
   ],
   "source": [
    "empty = {}\n",
    "print(type(empty))  # <class 'dict'>"
   ]
  },
  {
   "cell_type": "markdown",
   "id": "1314e193",
   "metadata": {},
   "source": [
    "### 🔹 Set Comprehension"
   ]
  },
  {
   "cell_type": "code",
   "execution_count": 42,
   "id": "d64cc0b4",
   "metadata": {},
   "outputs": [
    {
     "name": "stdout",
     "output_type": "stream",
     "text": [
      "{0, 1, 4, 9, 16}\n"
     ]
    }
   ],
   "source": [
    "squares = {x**2 for x in range(5)}\n",
    "print(squares)  # {0, 1, 4, 9, 16}"
   ]
  },
  {
   "cell_type": "markdown",
   "id": "535c41c1",
   "metadata": {},
   "source": [
    "### ✅ Summary Table: `dict` vs `set`"
   ]
  },
  {
   "cell_type": "markdown",
   "id": "3ec5eed3",
   "metadata": {},
   "source": [
    "| Feature        | `dict`                         | `set`                     |\n",
    "|----------------|--------------------------------|---------------------------|\n",
    "| Mutable        | Yes                            | Yes                       |\n",
    "| Ordered        | Yes (Python 3.7+)              | No                        |\n",
    "| Duplicates     | No duplicate keys              | No duplicates             |\n",
    "| Indexing       | No                             | No                        |\n",
    "| Use case       | Key-value mapping              | Membership testing, ops   |"
   ]
  },
  {
   "cell_type": "code",
   "execution_count": null,
   "id": "67c0c615",
   "metadata": {},
   "outputs": [],
   "source": []
  }
 ],
 "metadata": {
  "kernelspec": {
   "display_name": "Python 3",
   "language": "python",
   "name": "python3"
  },
  "language_info": {
   "codemirror_mode": {
    "name": "ipython",
    "version": 3
   },
   "file_extension": ".py",
   "mimetype": "text/x-python",
   "name": "python",
   "nbconvert_exporter": "python",
   "pygments_lexer": "ipython3",
   "version": "3.8.8"
  }
 },
 "nbformat": 4,
 "nbformat_minor": 5
}
